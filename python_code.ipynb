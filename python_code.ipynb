{
 "cells": [
  {
   "cell_type": "markdown",
   "id": "0bc4ba7a",
   "metadata": {},
   "source": [
    "# hello world\n"
   ]
  },
  {
   "cell_type": "code",
   "execution_count": 1,
   "id": "35dcad80",
   "metadata": {},
   "outputs": [
    {
     "name": "stdout",
     "output_type": "stream",
     "text": [
      "hello world\n"
     ]
    }
   ],
   "source": [
    "print(\"hello world\")"
   ]
  },
  {
   "cell_type": "markdown",
   "id": "fe65a9dc",
   "metadata": {},
   "source": [
    "# add number"
   ]
  },
  {
   "cell_type": "code",
   "execution_count": 2,
   "id": "5c063d64",
   "metadata": {},
   "outputs": [
    {
     "name": "stdout",
     "output_type": "stream",
     "text": [
      "7\n"
     ]
    }
   ],
   "source": [
    "print(5+2)"
   ]
  },
  {
   "cell_type": "markdown",
   "id": "726ebd5e",
   "metadata": {},
   "source": [
    "# square root"
   ]
  },
  {
   "cell_type": "code",
   "execution_count": 3,
   "id": "e63cc0cc",
   "metadata": {},
   "outputs": [
    {
     "name": "stdout",
     "output_type": "stream",
     "text": [
      "5\n",
      "25\n"
     ]
    }
   ],
   "source": [
    "a = int(input())\n",
    "c= a*a\n",
    "print(c)"
   ]
  },
  {
   "cell_type": "markdown",
   "id": "ff076257",
   "metadata": {},
   "source": [
    "# calculate area of triangle"
   ]
  },
  {
   "cell_type": "code",
   "execution_count": 4,
   "id": "a2effec0",
   "metadata": {},
   "outputs": [
    {
     "name": "stdout",
     "output_type": "stream",
     "text": [
      "25.0\n"
     ]
    }
   ],
   "source": [
    "b= 5\n",
    "h = 10\n",
    "area = b*h/2\n",
    "print (area)"
   ]
  },
  {
   "cell_type": "markdown",
   "id": "5d4a9c8b",
   "metadata": {},
   "source": [
    "# quadratic equation"
   ]
  },
  {
   "cell_type": "code",
   "execution_count": 47,
   "id": "1a0afa04",
   "metadata": {},
   "outputs": [
    {
     "name": "stdout",
     "output_type": "stream",
     "text": [
      "The solution are (-3+0j) and (-2+0j)\n"
     ]
    }
   ],
   "source": [
    "import cmath\n",
    "a = 1\n",
    "b = 5\n",
    "c = 6\n",
    "d = (b**2) - (4*a*c)\n",
    "sol1 = (-b-cmath.sqrt(d))/(2*a)\n",
    "sol2 = (-b+cmath.sqrt(d))/(2*a)\n",
    "print('The solution are {0} and {1}'.format(sol1,sol2))\n"
   ]
  },
  {
   "cell_type": "markdown",
   "id": "46d35783",
   "metadata": {},
   "source": []
  },
  {
   "cell_type": "markdown",
   "id": "516b2225",
   "metadata": {},
   "source": [
    "# swap variable"
   ]
  },
  {
   "cell_type": "code",
   "execution_count": 5,
   "id": "39a54977",
   "metadata": {},
   "outputs": [
    {
     "name": "stdout",
     "output_type": "stream",
     "text": [
      "5\n",
      "6\n",
      "6\n",
      "5\n"
     ]
    }
   ],
   "source": [
    "a= 5 \n",
    "b=6\n",
    "print(a)\n",
    "print(b)\n",
    "a,b = b,a\n",
    "print(a)\n",
    "print(b)"
   ]
  },
  {
   "cell_type": "markdown",
   "id": "35bceeb2",
   "metadata": {},
   "source": [
    "# genrate random number"
   ]
  },
  {
   "cell_type": "code",
   "execution_count": 6,
   "id": "4e62d129",
   "metadata": {},
   "outputs": [
    {
     "name": "stdout",
     "output_type": "stream",
     "text": [
      "370\n"
     ]
    }
   ],
   "source": [
    "import random\n",
    "\n",
    "g = random.randint(0,1000)\n",
    "print(g)"
   ]
  },
  {
   "cell_type": "markdown",
   "id": "1bdad138",
   "metadata": {},
   "source": [
    "# kilmeter to miles"
   ]
  },
  {
   "cell_type": "code",
   "execution_count": 7,
   "id": "3273a06c",
   "metadata": {},
   "outputs": [
    {
     "name": "stdout",
     "output_type": "stream",
     "text": [
      "4\n",
      "6.4412238325281805\n"
     ]
    }
   ],
   "source": [
    "km = int(input())\n",
    "miles = km/0.621\n",
    "print(miles)"
   ]
  },
  {
   "cell_type": "markdown",
   "id": "06456b7a",
   "metadata": {},
   "source": [
    "# celcius to farhenit"
   ]
  },
  {
   "cell_type": "code",
   "execution_count": 8,
   "id": "730b5a1c",
   "metadata": {},
   "outputs": [
    {
     "name": "stdout",
     "output_type": "stream",
     "text": [
      "4\n",
      "39.2\n"
     ]
    }
   ],
   "source": [
    "c = int(input())\n",
    "f = (c* 9/5)+32\n",
    "print(f)"
   ]
  },
  {
   "cell_type": "markdown",
   "id": "326283d6",
   "metadata": {},
   "source": [
    "# postive negative or zero"
   ]
  },
  {
   "cell_type": "code",
   "execution_count": 9,
   "id": "ef213b83",
   "metadata": {},
   "outputs": [
    {
     "name": "stdout",
     "output_type": "stream",
     "text": [
      "4\n",
      "n is postive: \n"
     ]
    }
   ],
   "source": [
    "n = int(input())\n",
    "if n>0:\n",
    "    print(\"n is postive: \")\n",
    "elif n<0:\n",
    "    print(\"n is negative: \")\n",
    "elif n==0:\n",
    "    print(\"n is equal to zero: \")"
   ]
  },
  {
   "cell_type": "markdown",
   "id": "8e9bf702",
   "metadata": {},
   "source": [
    "# odd or even"
   ]
  },
  {
   "cell_type": "code",
   "execution_count": 10,
   "id": "e4f89716",
   "metadata": {},
   "outputs": [
    {
     "name": "stdout",
     "output_type": "stream",
     "text": [
      "4\n",
      "n is even: \n"
     ]
    }
   ],
   "source": [
    "n = int(input())\n",
    "if n%2 == 0:\n",
    "    print(\"n is even: \")\n",
    "elif n%2 !=0:\n",
    "    print(\"n is odd: \")"
   ]
  },
  {
   "cell_type": "markdown",
   "id": "504a6fdc",
   "metadata": {},
   "source": [
    "# leap year"
   ]
  },
  {
   "cell_type": "code",
   "execution_count": 11,
   "id": "784fd5cb",
   "metadata": {},
   "outputs": [
    {
     "name": "stdout",
     "output_type": "stream",
     "text": [
      "4\n",
      "year is a leap year\n"
     ]
    }
   ],
   "source": [
    "n = int(input())\n",
    "if (n%4 == 0):\n",
    "    print(\"year is a leap year\")\n",
    "if (n%100 == 0):\n",
    "    print(\"year is not a leap year\")"
   ]
  },
  {
   "cell_type": "markdown",
   "id": "8aeb7471",
   "metadata": {},
   "source": [
    "# prime number"
   ]
  },
  {
   "cell_type": "code",
   "execution_count": 12,
   "id": "6db5eccd",
   "metadata": {},
   "outputs": [
    {
     "name": "stdout",
     "output_type": "stream",
     "text": [
      "Enter number to be checked: 4\n",
      "This is not a prime number.\n"
     ]
    }
   ],
   "source": [
    "def is_prime(num):\n",
    "    last = int(num ** 0.5) \n",
    "    for item in range(2, last + 1): \n",
    "        if num % item == 0:\n",
    "            return False\n",
    "    return True\n",
    " \n",
    "number = int(input(\"Enter number to be checked: \"))\n",
    "result = is_prime(number)\n",
    "print(\"This is\" + (\" not\" if not result else \"\"), \"a prime number.\")"
   ]
  },
  {
   "cell_type": "markdown",
   "id": "f3ad0a3f",
   "metadata": {},
   "source": [
    "# Python program to check all the prime number in the given interval"
   ]
  },
  {
   "cell_type": "code",
   "execution_count": 13,
   "id": "e8400710",
   "metadata": {},
   "outputs": [
    {
     "name": "stdout",
     "output_type": "stream",
     "text": [
      "Enter the start and end of the range seperated by space: 4\n"
     ]
    },
    {
     "ename": "ValueError",
     "evalue": "not enough values to unpack (expected 2, got 1)",
     "output_type": "error",
     "traceback": [
      "\u001b[1;31m---------------------------------------------------------------------------\u001b[0m",
      "\u001b[1;31mValueError\u001b[0m                                Traceback (most recent call last)",
      "\u001b[1;32m<ipython-input-13-d688d7923148>\u001b[0m in \u001b[0;36m<module>\u001b[1;34m\u001b[0m\n\u001b[0;32m      6\u001b[0m     \u001b[1;32mreturn\u001b[0m \u001b[0mprime_lst\u001b[0m\u001b[1;33m\u001b[0m\u001b[1;33m\u001b[0m\u001b[0m\n\u001b[0;32m      7\u001b[0m \u001b[1;33m\u001b[0m\u001b[0m\n\u001b[1;32m----> 8\u001b[1;33m \u001b[0mstart\u001b[0m\u001b[1;33m,\u001b[0m \u001b[0mend\u001b[0m \u001b[1;33m=\u001b[0m \u001b[1;33m[\u001b[0m\u001b[0mint\u001b[0m\u001b[1;33m(\u001b[0m\u001b[0mx\u001b[0m\u001b[1;33m)\u001b[0m \u001b[1;32mfor\u001b[0m \u001b[0mx\u001b[0m \u001b[1;32min\u001b[0m \u001b[0minput\u001b[0m\u001b[1;33m(\u001b[0m\u001b[1;34m\"Enter the start and end of the range seperated by space: \"\u001b[0m\u001b[1;33m)\u001b[0m\u001b[1;33m.\u001b[0m\u001b[0msplit\u001b[0m\u001b[1;33m(\u001b[0m\u001b[1;33m)\u001b[0m\u001b[1;33m]\u001b[0m\u001b[1;33m[\u001b[0m\u001b[1;33m:\u001b[0m\u001b[1;36m2\u001b[0m\u001b[1;33m]\u001b[0m\u001b[1;33m\u001b[0m\u001b[1;33m\u001b[0m\u001b[0m\n\u001b[0m\u001b[0;32m      9\u001b[0m \u001b[0mprint\u001b[0m\u001b[1;33m(\u001b[0m\u001b[1;34m\", \"\u001b[0m\u001b[1;33m.\u001b[0m\u001b[0mjoin\u001b[0m\u001b[1;33m(\u001b[0m\u001b[0mmap\u001b[0m\u001b[1;33m(\u001b[0m\u001b[0mstr\u001b[0m\u001b[1;33m,\u001b[0m \u001b[0mcheck_prime_in_range\u001b[0m\u001b[1;33m(\u001b[0m\u001b[0mstart\u001b[0m\u001b[1;33m,\u001b[0m \u001b[0mend\u001b[0m\u001b[1;33m)\u001b[0m\u001b[1;33m)\u001b[0m\u001b[1;33m)\u001b[0m\u001b[1;33m+\u001b[0m\u001b[1;34m\" are all prime numbers between\"\u001b[0m\u001b[1;33m,\u001b[0m \u001b[0mend\u001b[0m\u001b[1;33m=\u001b[0m\u001b[1;34mf\" {start} and {end}\"\u001b[0m\u001b[1;33m)\u001b[0m\u001b[1;33m\u001b[0m\u001b[1;33m\u001b[0m\u001b[0m\n",
      "\u001b[1;31mValueError\u001b[0m: not enough values to unpack (expected 2, got 1)"
     ]
    }
   ],
   "source": [
    "def check_prime_in_range(start, end):\n",
    "    prime_lst = []\n",
    "    for num in range(start, end+1):\n",
    "        if is_prime(num):\n",
    "            prime_lst.append(num)\n",
    "    return prime_lst\n",
    " \n",
    "start, end = [int(x) for x in input(\"Enter the start and end of the range seperated by space: \").split()][:2]\n",
    "print(\", \".join(map(str, check_prime_in_range(start, end)))+\" are all prime numbers between\", end=f\" {start} and {end}\")"
   ]
  },
  {
   "cell_type": "markdown",
   "id": "6e5d0e25",
   "metadata": {},
   "source": [
    "# Python program to find the factorial of a number."
   ]
  },
  {
   "cell_type": "code",
   "execution_count": 14,
   "id": "28ffe8e1",
   "metadata": {},
   "outputs": [
    {
     "name": "stdout",
     "output_type": "stream",
     "text": [
      "Enter the number to get the factorial of it: 5\n",
      "Factorial of 5 is 120\n"
     ]
    }
   ],
   "source": [
    "def factorial(num):\n",
    "    if num == 2:\n",
    "        return 2\n",
    "    return num * factorial(num - 1)\n",
    " \n",
    "number = int(input(\"Enter the number to get the factorial of it: \"))\n",
    "print('Factorial of', number , \"is\", factorial(number))"
   ]
  },
  {
   "cell_type": "markdown",
   "id": "6c802d5b",
   "metadata": {},
   "source": [
    "# find HCF or GCD"
   ]
  },
  {
   "cell_type": "code",
   "execution_count": 15,
   "id": "6081d64b",
   "metadata": {},
   "outputs": [
    {
     "name": "stdout",
     "output_type": "stream",
     "text": [
      "Enter the two numbers seperated by space: %5\n"
     ]
    },
    {
     "ename": "ValueError",
     "evalue": "invalid literal for int() with base 10: '%5'",
     "output_type": "error",
     "traceback": [
      "\u001b[1;31m---------------------------------------------------------------------------\u001b[0m",
      "\u001b[1;31mValueError\u001b[0m                                Traceback (most recent call last)",
      "\u001b[1;32m<ipython-input-15-c9e87252fb4d>\u001b[0m in \u001b[0;36m<module>\u001b[1;34m\u001b[0m\n\u001b[0;32m      5\u001b[0m     \u001b[1;32mreturn\u001b[0m \u001b[0mgcd\u001b[0m\u001b[1;33m(\u001b[0m\u001b[0mremainder\u001b[0m\u001b[1;33m,\u001b[0m \u001b[0mdivisor\u001b[0m\u001b[1;33m)\u001b[0m\u001b[1;33m\u001b[0m\u001b[1;33m\u001b[0m\u001b[0m\n\u001b[0;32m      6\u001b[0m \u001b[1;33m\u001b[0m\u001b[0m\n\u001b[1;32m----> 7\u001b[1;33m \u001b[0mdivisor\u001b[0m\u001b[1;33m,\u001b[0m \u001b[0mdividend\u001b[0m \u001b[1;33m=\u001b[0m \u001b[1;33m[\u001b[0m\u001b[0mint\u001b[0m\u001b[1;33m(\u001b[0m\u001b[0mx\u001b[0m\u001b[1;33m)\u001b[0m \u001b[1;32mfor\u001b[0m \u001b[0mx\u001b[0m \u001b[1;32min\u001b[0m \u001b[0minput\u001b[0m\u001b[1;33m(\u001b[0m\u001b[1;34m\"Enter the two numbers seperated by space: \"\u001b[0m\u001b[1;33m)\u001b[0m\u001b[1;33m.\u001b[0m\u001b[0msplit\u001b[0m\u001b[1;33m(\u001b[0m\u001b[1;33m)\u001b[0m\u001b[1;33m]\u001b[0m\u001b[1;33m[\u001b[0m\u001b[1;33m:\u001b[0m\u001b[1;36m2\u001b[0m\u001b[1;33m]\u001b[0m\u001b[1;33m\u001b[0m\u001b[1;33m\u001b[0m\u001b[0m\n\u001b[0m\u001b[0;32m      8\u001b[0m \u001b[0mprint\u001b[0m\u001b[1;33m(\u001b[0m\u001b[1;34m\"The GCD of\"\u001b[0m\u001b[1;33m,\u001b[0m \u001b[0mdivisor\u001b[0m\u001b[1;33m,\u001b[0m \u001b[0mdividend\u001b[0m\u001b[1;33m,\u001b[0m \u001b[1;34m\"is\"\u001b[0m\u001b[1;33m,\u001b[0m \u001b[0mgcd\u001b[0m\u001b[1;33m(\u001b[0m\u001b[0mdivisor\u001b[0m\u001b[1;33m,\u001b[0m \u001b[0mdividend\u001b[0m\u001b[1;33m)\u001b[0m\u001b[1;33m)\u001b[0m\u001b[1;33m\u001b[0m\u001b[1;33m\u001b[0m\u001b[0m\n",
      "\u001b[1;32m<ipython-input-15-c9e87252fb4d>\u001b[0m in \u001b[0;36m<listcomp>\u001b[1;34m(.0)\u001b[0m\n\u001b[0;32m      5\u001b[0m     \u001b[1;32mreturn\u001b[0m \u001b[0mgcd\u001b[0m\u001b[1;33m(\u001b[0m\u001b[0mremainder\u001b[0m\u001b[1;33m,\u001b[0m \u001b[0mdivisor\u001b[0m\u001b[1;33m)\u001b[0m\u001b[1;33m\u001b[0m\u001b[1;33m\u001b[0m\u001b[0m\n\u001b[0;32m      6\u001b[0m \u001b[1;33m\u001b[0m\u001b[0m\n\u001b[1;32m----> 7\u001b[1;33m \u001b[0mdivisor\u001b[0m\u001b[1;33m,\u001b[0m \u001b[0mdividend\u001b[0m \u001b[1;33m=\u001b[0m \u001b[1;33m[\u001b[0m\u001b[0mint\u001b[0m\u001b[1;33m(\u001b[0m\u001b[0mx\u001b[0m\u001b[1;33m)\u001b[0m \u001b[1;32mfor\u001b[0m \u001b[0mx\u001b[0m \u001b[1;32min\u001b[0m \u001b[0minput\u001b[0m\u001b[1;33m(\u001b[0m\u001b[1;34m\"Enter the two numbers seperated by space: \"\u001b[0m\u001b[1;33m)\u001b[0m\u001b[1;33m.\u001b[0m\u001b[0msplit\u001b[0m\u001b[1;33m(\u001b[0m\u001b[1;33m)\u001b[0m\u001b[1;33m]\u001b[0m\u001b[1;33m[\u001b[0m\u001b[1;33m:\u001b[0m\u001b[1;36m2\u001b[0m\u001b[1;33m]\u001b[0m\u001b[1;33m\u001b[0m\u001b[1;33m\u001b[0m\u001b[0m\n\u001b[0m\u001b[0;32m      8\u001b[0m \u001b[0mprint\u001b[0m\u001b[1;33m(\u001b[0m\u001b[1;34m\"The GCD of\"\u001b[0m\u001b[1;33m,\u001b[0m \u001b[0mdivisor\u001b[0m\u001b[1;33m,\u001b[0m \u001b[0mdividend\u001b[0m\u001b[1;33m,\u001b[0m \u001b[1;34m\"is\"\u001b[0m\u001b[1;33m,\u001b[0m \u001b[0mgcd\u001b[0m\u001b[1;33m(\u001b[0m\u001b[0mdivisor\u001b[0m\u001b[1;33m,\u001b[0m \u001b[0mdividend\u001b[0m\u001b[1;33m)\u001b[0m\u001b[1;33m)\u001b[0m\u001b[1;33m\u001b[0m\u001b[1;33m\u001b[0m\u001b[0m\n",
      "\u001b[1;31mValueError\u001b[0m: invalid literal for int() with base 10: '%5'"
     ]
    }
   ],
   "source": [
    "def gcd(divisor, dividend):\n",
    "    remainder = dividend % divisor\n",
    "    if remainder == 0:\n",
    "        return divisor\n",
    "    return gcd(remainder, divisor)\n",
    "\n",
    "divisor, dividend = [int(x) for x in input(\"Enter the two numbers seperated by space: \").split()][:2]\n",
    "print(\"The GCD of\", divisor, dividend, \"is\", gcd(divisor, dividend))"
   ]
  },
  {
   "cell_type": "markdown",
   "id": "eaf15d11",
   "metadata": {},
   "source": [
    "#  numbers divisible by another number\n",
    "\n"
   ]
  },
  {
   "cell_type": "code",
   "execution_count": 16,
   "id": "8092e58a",
   "metadata": {},
   "outputs": [
    {
     "name": "stdout",
     "output_type": "stream",
     "text": [
      "Enter the num:\n"
     ]
    },
    {
     "ename": "ValueError",
     "evalue": "invalid literal for int() with base 10: ''",
     "output_type": "error",
     "traceback": [
      "\u001b[1;31m---------------------------------------------------------------------------\u001b[0m",
      "\u001b[1;31mValueError\u001b[0m                                Traceback (most recent call last)",
      "\u001b[1;32m<ipython-input-16-afb4889c2fd1>\u001b[0m in \u001b[0;36m<module>\u001b[1;34m\u001b[0m\n\u001b[1;32m----> 1\u001b[1;33m \u001b[0mnum\u001b[0m\u001b[1;33m=\u001b[0m\u001b[0mint\u001b[0m\u001b[1;33m(\u001b[0m\u001b[0minput\u001b[0m\u001b[1;33m(\u001b[0m\u001b[1;34m\"Enter the num:\"\u001b[0m\u001b[1;33m)\u001b[0m\u001b[1;33m)\u001b[0m\u001b[1;33m\u001b[0m\u001b[1;33m\u001b[0m\u001b[0m\n\u001b[0m\u001b[0;32m      2\u001b[0m \u001b[0mdenominator\u001b[0m\u001b[1;33m=\u001b[0m\u001b[0mint\u001b[0m\u001b[1;33m(\u001b[0m\u001b[0minput\u001b[0m\u001b[1;33m(\u001b[0m\u001b[1;34m\"Enter the denominator:\"\u001b[0m\u001b[1;33m)\u001b[0m\u001b[1;33m)\u001b[0m\u001b[1;33m\u001b[0m\u001b[1;33m\u001b[0m\u001b[0m\n\u001b[0;32m      3\u001b[0m \u001b[1;32mif\u001b[0m \u001b[1;33m(\u001b[0m\u001b[0mnum\u001b[0m\u001b[1;33m%\u001b[0m\u001b[0mdenominator\u001b[0m\u001b[1;33m==\u001b[0m\u001b[1;36m0\u001b[0m\u001b[1;33m)\u001b[0m\u001b[1;33m:\u001b[0m\u001b[1;33m\u001b[0m\u001b[1;33m\u001b[0m\u001b[0m\n\u001b[0;32m      4\u001b[0m     \u001b[0mprint\u001b[0m\u001b[1;33m(\u001b[0m\u001b[1;34m\"Yes, It is divisible by\"\u001b[0m\u001b[1;33m,\u001b[0m\u001b[0mdenominator\u001b[0m\u001b[1;33m)\u001b[0m\u001b[1;33m\u001b[0m\u001b[1;33m\u001b[0m\u001b[0m\n\u001b[0;32m      5\u001b[0m \u001b[1;32melse\u001b[0m\u001b[1;33m:\u001b[0m\u001b[1;33m\u001b[0m\u001b[1;33m\u001b[0m\u001b[0m\n",
      "\u001b[1;31mValueError\u001b[0m: invalid literal for int() with base 10: ''"
     ]
    }
   ],
   "source": [
    "num=int(input(\"Enter the num:\"))\n",
    "denominator=int(input(\"Enter the denominator:\"))\n",
    "if (num%denominator==0):\n",
    "    print(\"Yes, It is divisible by\",denominator)\n",
    "else:\n",
    "    print(\"It is not divisible by \",denominator)"
   ]
  },
  {
   "cell_type": "markdown",
   "id": "942920a1",
   "metadata": {},
   "source": [
    "# Python program to display power of 2 using Anonymous function"
   ]
  },
  {
   "cell_type": "code",
   "execution_count": 17,
   "id": "c35368b4",
   "metadata": {},
   "outputs": [
    {
     "name": "stdout",
     "output_type": "stream",
     "text": [
      "Enter the num :\n"
     ]
    },
    {
     "ename": "ValueError",
     "evalue": "invalid literal for int() with base 10: ''",
     "output_type": "error",
     "traceback": [
      "\u001b[1;31m---------------------------------------------------------------------------\u001b[0m",
      "\u001b[1;31mValueError\u001b[0m                                Traceback (most recent call last)",
      "\u001b[1;32m<ipython-input-17-bd3d857cb4a4>\u001b[0m in \u001b[0;36m<module>\u001b[1;34m\u001b[0m\n\u001b[1;32m----> 1\u001b[1;33m \u001b[0mx\u001b[0m\u001b[1;33m=\u001b[0m\u001b[0mint\u001b[0m\u001b[1;33m(\u001b[0m\u001b[0minput\u001b[0m\u001b[1;33m(\u001b[0m\u001b[1;34m\"Enter the num :\"\u001b[0m\u001b[1;33m)\u001b[0m\u001b[1;33m)\u001b[0m\u001b[1;33m\u001b[0m\u001b[1;33m\u001b[0m\u001b[0m\n\u001b[0m\u001b[0;32m      2\u001b[0m \u001b[0mpower\u001b[0m\u001b[1;33m=\u001b[0m\u001b[1;32mlambda\u001b[0m \u001b[0mx\u001b[0m\u001b[1;33m:\u001b[0m \u001b[1;36m2\u001b[0m\u001b[1;33m**\u001b[0m\u001b[0mx\u001b[0m\u001b[1;33m\u001b[0m\u001b[1;33m\u001b[0m\u001b[0m\n\u001b[0;32m      3\u001b[0m \u001b[0mprint\u001b[0m\u001b[1;33m(\u001b[0m\u001b[0mpower\u001b[0m\u001b[1;33m(\u001b[0m\u001b[0mx\u001b[0m\u001b[1;33m)\u001b[0m\u001b[1;33m)\u001b[0m\u001b[1;33m\u001b[0m\u001b[1;33m\u001b[0m\u001b[0m\n",
      "\u001b[1;31mValueError\u001b[0m: invalid literal for int() with base 10: ''"
     ]
    }
   ],
   "source": [
    "x=int(input(\"Enter the num :\"))\n",
    "power=lambda x: 2**x\n",
    "print(power(x))"
   ]
  },
  {
   "cell_type": "markdown",
   "id": "10850270",
   "metadata": {},
   "source": [
    "# Python program to find the Sum of Natural numbers."
   ]
  },
  {
   "cell_type": "code",
   "execution_count": 18,
   "id": "6423c0ce",
   "metadata": {},
   "outputs": [
    {
     "name": "stdout",
     "output_type": "stream",
     "text": [
      "Enter the number:\n"
     ]
    },
    {
     "ename": "ValueError",
     "evalue": "invalid literal for int() with base 10: ''",
     "output_type": "error",
     "traceback": [
      "\u001b[1;31m---------------------------------------------------------------------------\u001b[0m",
      "\u001b[1;31mValueError\u001b[0m                                Traceback (most recent call last)",
      "\u001b[1;32m<ipython-input-18-f243eeef20b9>\u001b[0m in \u001b[0;36m<module>\u001b[1;34m\u001b[0m\n\u001b[1;32m----> 1\u001b[1;33m \u001b[0mnum\u001b[0m\u001b[1;33m=\u001b[0m\u001b[0mint\u001b[0m\u001b[1;33m(\u001b[0m\u001b[0minput\u001b[0m\u001b[1;33m(\u001b[0m\u001b[1;34m\"Enter the number:\"\u001b[0m\u001b[1;33m)\u001b[0m\u001b[1;33m)\u001b[0m\u001b[1;33m\u001b[0m\u001b[1;33m\u001b[0m\u001b[0m\n\u001b[0m\u001b[0;32m      2\u001b[0m \u001b[1;32mif\u001b[0m \u001b[0mnum\u001b[0m\u001b[1;33m<\u001b[0m\u001b[1;36m0\u001b[0m\u001b[1;33m:\u001b[0m\u001b[1;33m\u001b[0m\u001b[1;33m\u001b[0m\u001b[0m\n\u001b[0;32m      3\u001b[0m     \u001b[0mprint\u001b[0m\u001b[1;33m(\u001b[0m\u001b[1;34m\"Enter positive number.\"\u001b[0m\u001b[1;33m)\u001b[0m\u001b[1;33m\u001b[0m\u001b[1;33m\u001b[0m\u001b[0m\n\u001b[0;32m      4\u001b[0m \u001b[1;32melse\u001b[0m\u001b[1;33m:\u001b[0m\u001b[1;33m\u001b[0m\u001b[1;33m\u001b[0m\u001b[0m\n\u001b[0;32m      5\u001b[0m     \u001b[0msum\u001b[0m\u001b[1;33m=\u001b[0m\u001b[1;36m0\u001b[0m\u001b[1;33m\u001b[0m\u001b[1;33m\u001b[0m\u001b[0m\n",
      "\u001b[1;31mValueError\u001b[0m: invalid literal for int() with base 10: ''"
     ]
    }
   ],
   "source": [
    "num=int(input(\"Enter the number:\"))\n",
    "if num<0:\n",
    "    print(\"Enter positive number.\")\n",
    "else:\n",
    "    sum=0\n",
    "    while(num>0):\n",
    "        sum+=num\n",
    "        num-=1\n",
    "    print(\"Sum of natural given num is:\",sum)"
   ]
  },
  {
   "cell_type": "markdown",
   "id": "85e1728f",
   "metadata": {},
   "source": [
    "# Python program to Print the Fibonacci sequence\n"
   ]
  },
  {
   "cell_type": "code",
   "execution_count": 19,
   "id": "8ec9b123",
   "metadata": {},
   "outputs": [
    {
     "name": "stdout",
     "output_type": "stream",
     "text": [
      "Enter the number:\n"
     ]
    },
    {
     "ename": "ValueError",
     "evalue": "invalid literal for int() with base 10: ''",
     "output_type": "error",
     "traceback": [
      "\u001b[1;31m---------------------------------------------------------------------------\u001b[0m",
      "\u001b[1;31mValueError\u001b[0m                                Traceback (most recent call last)",
      "\u001b[1;32m<ipython-input-19-372f7026c874>\u001b[0m in \u001b[0;36m<module>\u001b[1;34m\u001b[0m\n\u001b[1;32m----> 1\u001b[1;33m \u001b[0mnum\u001b[0m\u001b[1;33m=\u001b[0m\u001b[0mint\u001b[0m\u001b[1;33m(\u001b[0m\u001b[0minput\u001b[0m\u001b[1;33m(\u001b[0m\u001b[1;34m\"Enter the number:\"\u001b[0m\u001b[1;33m)\u001b[0m\u001b[1;33m)\u001b[0m\u001b[1;33m\u001b[0m\u001b[1;33m\u001b[0m\u001b[0m\n\u001b[0m\u001b[0;32m      2\u001b[0m \u001b[0mx\u001b[0m\u001b[1;33m=\u001b[0m\u001b[1;36m0\u001b[0m\u001b[1;33m\u001b[0m\u001b[1;33m\u001b[0m\u001b[0m\n\u001b[0;32m      3\u001b[0m \u001b[0my\u001b[0m\u001b[1;33m=\u001b[0m\u001b[1;36m1\u001b[0m\u001b[1;33m\u001b[0m\u001b[1;33m\u001b[0m\u001b[0m\n\u001b[0;32m      4\u001b[0m \u001b[0mz\u001b[0m\u001b[1;33m=\u001b[0m\u001b[1;36m0\u001b[0m\u001b[1;33m\u001b[0m\u001b[1;33m\u001b[0m\u001b[0m\n\u001b[0;32m      5\u001b[0m \u001b[1;32mwhile\u001b[0m\u001b[1;33m(\u001b[0m\u001b[0mz\u001b[0m\u001b[1;33m<=\u001b[0m\u001b[0mnum\u001b[0m\u001b[1;33m)\u001b[0m\u001b[1;33m:\u001b[0m\u001b[1;33m\u001b[0m\u001b[1;33m\u001b[0m\u001b[0m\n",
      "\u001b[1;31mValueError\u001b[0m: invalid literal for int() with base 10: ''"
     ]
    }
   ],
   "source": [
    "num=int(input(\"Enter the number:\"))\n",
    "x=0\n",
    "y=1\n",
    "z=0\n",
    "while(z<=num):\n",
    "    \n",
    "    x=y\n",
    "    y=z\n",
    "    z=x+y\n",
    "    print(z)"
   ]
  },
  {
   "cell_type": "markdown",
   "id": "b7a62ecc",
   "metadata": {},
   "source": [
    "# multiple table"
   ]
  },
  {
   "cell_type": "code",
   "execution_count": 20,
   "id": "6171c313",
   "metadata": {},
   "outputs": [
    {
     "name": "stdout",
     "output_type": "stream",
     "text": [
      "Enter the num:\n"
     ]
    },
    {
     "ename": "ValueError",
     "evalue": "invalid literal for int() with base 10: ''",
     "output_type": "error",
     "traceback": [
      "\u001b[1;31m---------------------------------------------------------------------------\u001b[0m",
      "\u001b[1;31mValueError\u001b[0m                                Traceback (most recent call last)",
      "\u001b[1;32m<ipython-input-20-ddbee41c74be>\u001b[0m in \u001b[0;36m<module>\u001b[1;34m\u001b[0m\n\u001b[1;32m----> 1\u001b[1;33m \u001b[0mnum\u001b[0m\u001b[1;33m=\u001b[0m\u001b[0mint\u001b[0m\u001b[1;33m(\u001b[0m\u001b[0minput\u001b[0m\u001b[1;33m(\u001b[0m\u001b[1;34m\"Enter the num:\"\u001b[0m\u001b[1;33m)\u001b[0m\u001b[1;33m)\u001b[0m\u001b[1;33m\u001b[0m\u001b[1;33m\u001b[0m\u001b[0m\n\u001b[0m\u001b[0;32m      2\u001b[0m \u001b[1;32mfor\u001b[0m \u001b[0mi\u001b[0m \u001b[1;32min\u001b[0m \u001b[0mrange\u001b[0m\u001b[1;33m(\u001b[0m\u001b[1;36m10\u001b[0m\u001b[1;33m)\u001b[0m\u001b[1;33m:\u001b[0m\u001b[1;33m\u001b[0m\u001b[1;33m\u001b[0m\u001b[0m\n\u001b[0;32m      3\u001b[0m     \u001b[0mprint\u001b[0m\u001b[1;33m(\u001b[0m\u001b[0mnum\u001b[0m \u001b[1;33m,\u001b[0m\u001b[1;34m\"*\"\u001b[0m\u001b[1;33m,\u001b[0m\u001b[0mi\u001b[0m\u001b[1;33m,\u001b[0m\u001b[1;34m\"=\"\u001b[0m\u001b[1;33m,\u001b[0m\u001b[0mnum\u001b[0m\u001b[1;33m*\u001b[0m\u001b[0mi\u001b[0m\u001b[1;33m)\u001b[0m\u001b[1;33m\u001b[0m\u001b[1;33m\u001b[0m\u001b[0m\n",
      "\u001b[1;31mValueError\u001b[0m: invalid literal for int() with base 10: ''"
     ]
    }
   ],
   "source": [
    "num=int(input(\"Enter the num:\"))\n",
    "for i in range(10):\n",
    "    print(num ,\"*\",i,\"=\",num*i)"
   ]
  },
  {
   "cell_type": "markdown",
   "id": "fdbab929",
   "metadata": {},
   "source": [
    "# LCM"
   ]
  },
  {
   "cell_type": "code",
   "execution_count": 21,
   "id": "7b611575",
   "metadata": {},
   "outputs": [
    {
     "name": "stdout",
     "output_type": "stream",
     "text": [
      "\n"
     ]
    },
    {
     "ename": "ValueError",
     "evalue": "invalid literal for int() with base 10: ''",
     "output_type": "error",
     "traceback": [
      "\u001b[1;31m---------------------------------------------------------------------------\u001b[0m",
      "\u001b[1;31mValueError\u001b[0m                                Traceback (most recent call last)",
      "\u001b[1;32m<ipython-input-21-66e9bfabc27a>\u001b[0m in \u001b[0;36m<module>\u001b[1;34m\u001b[0m\n\u001b[1;32m----> 1\u001b[1;33m \u001b[0mx\u001b[0m \u001b[1;33m=\u001b[0m \u001b[0mint\u001b[0m\u001b[1;33m(\u001b[0m\u001b[0minput\u001b[0m\u001b[1;33m(\u001b[0m\u001b[1;33m)\u001b[0m\u001b[1;33m)\u001b[0m\u001b[1;33m\u001b[0m\u001b[1;33m\u001b[0m\u001b[0m\n\u001b[0m\u001b[0;32m      2\u001b[0m \u001b[0my\u001b[0m \u001b[1;33m=\u001b[0m \u001b[0mint\u001b[0m\u001b[1;33m(\u001b[0m\u001b[0minput\u001b[0m\u001b[1;33m(\u001b[0m\u001b[1;33m)\u001b[0m\u001b[1;33m)\u001b[0m\u001b[1;33m\u001b[0m\u001b[1;33m\u001b[0m\u001b[0m\n\u001b[0;32m      3\u001b[0m \u001b[1;32mdef\u001b[0m \u001b[0mlcm\u001b[0m\u001b[1;33m(\u001b[0m\u001b[0mx\u001b[0m\u001b[1;33m,\u001b[0m \u001b[0my\u001b[0m\u001b[1;33m)\u001b[0m\u001b[1;33m:\u001b[0m\u001b[1;33m\u001b[0m\u001b[1;33m\u001b[0m\u001b[0m\n\u001b[0;32m      4\u001b[0m    \u001b[1;32mif\u001b[0m \u001b[0mx\u001b[0m \u001b[1;33m>\u001b[0m \u001b[0my\u001b[0m\u001b[1;33m:\u001b[0m\u001b[1;33m\u001b[0m\u001b[1;33m\u001b[0m\u001b[0m\n\u001b[0;32m      5\u001b[0m        \u001b[0mgreater\u001b[0m \u001b[1;33m=\u001b[0m \u001b[0mx\u001b[0m\u001b[1;33m\u001b[0m\u001b[1;33m\u001b[0m\u001b[0m\n",
      "\u001b[1;31mValueError\u001b[0m: invalid literal for int() with base 10: ''"
     ]
    }
   ],
   "source": [
    "x = int(input())\n",
    "y = int(input())\n",
    "def lcm(x, y):\n",
    "   if x > y:\n",
    "       greater = x\n",
    "   else:\n",
    "       greater = y\n",
    "\n",
    "   while(True):\n",
    "       if ((greater % x == 0) and (greater % y == 0)):\n",
    "           lcm = greater\n",
    "           break\n",
    "       greater += 1\n",
    "\n",
    "   return lcm\n",
    "print(\"the lcm of the number is\",lcm(x,y))"
   ]
  },
  {
   "cell_type": "markdown",
   "id": "783d6fc1",
   "metadata": {},
   "source": [
    "# simple calculator"
   ]
  },
  {
   "cell_type": "code",
   "execution_count": 22,
   "id": "9ec0de8e",
   "metadata": {},
   "outputs": [
    {
     "name": "stdout",
     "output_type": "stream",
     "text": [
      "\n"
     ]
    },
    {
     "ename": "ValueError",
     "evalue": "invalid literal for int() with base 10: ''",
     "output_type": "error",
     "traceback": [
      "\u001b[1;31m---------------------------------------------------------------------------\u001b[0m",
      "\u001b[1;31mValueError\u001b[0m                                Traceback (most recent call last)",
      "\u001b[1;32m<ipython-input-22-b6dc8b6b1868>\u001b[0m in \u001b[0;36m<module>\u001b[1;34m\u001b[0m\n\u001b[1;32m----> 1\u001b[1;33m \u001b[0ma\u001b[0m \u001b[1;33m=\u001b[0m \u001b[0mint\u001b[0m\u001b[1;33m(\u001b[0m\u001b[0minput\u001b[0m\u001b[1;33m(\u001b[0m\u001b[1;33m)\u001b[0m\u001b[1;33m)\u001b[0m\u001b[1;33m\u001b[0m\u001b[1;33m\u001b[0m\u001b[0m\n\u001b[0m\u001b[0;32m      2\u001b[0m \u001b[0mb\u001b[0m\u001b[1;33m=\u001b[0m \u001b[0mint\u001b[0m\u001b[1;33m(\u001b[0m\u001b[0minput\u001b[0m\u001b[1;33m(\u001b[0m\u001b[1;33m)\u001b[0m\u001b[1;33m)\u001b[0m\u001b[1;33m\u001b[0m\u001b[1;33m\u001b[0m\u001b[0m\n\u001b[0;32m      3\u001b[0m \u001b[0madd\u001b[0m\u001b[1;33m=\u001b[0m \u001b[0ma\u001b[0m\u001b[1;33m+\u001b[0m\u001b[0mb\u001b[0m\u001b[1;33m\u001b[0m\u001b[1;33m\u001b[0m\u001b[0m\n\u001b[0;32m      4\u001b[0m \u001b[0msub\u001b[0m\u001b[1;33m=\u001b[0m \u001b[0ma\u001b[0m\u001b[1;33m-\u001b[0m\u001b[0mb\u001b[0m\u001b[1;33m\u001b[0m\u001b[1;33m\u001b[0m\u001b[0m\n\u001b[0;32m      5\u001b[0m \u001b[0mdiv\u001b[0m \u001b[1;33m=\u001b[0m \u001b[0ma\u001b[0m\u001b[1;33m/\u001b[0m\u001b[0mb\u001b[0m\u001b[1;33m\u001b[0m\u001b[1;33m\u001b[0m\u001b[0m\n",
      "\u001b[1;31mValueError\u001b[0m: invalid literal for int() with base 10: ''"
     ]
    }
   ],
   "source": [
    "a = int(input())\n",
    "b= int(input())\n",
    "add= a+b\n",
    "sub= a-b\n",
    "div = a/b\n",
    "multiply = a*b\n",
    "print(f\"addition is {add}, substraction is {sub}, division is {div}, multiplications is {multiply}\")"
   ]
  },
  {
   "cell_type": "markdown",
   "id": "ea9a9821",
   "metadata": {},
   "source": [
    "# display calender"
   ]
  },
  {
   "cell_type": "code",
   "execution_count": 23,
   "id": "62782cab",
   "metadata": {},
   "outputs": [
    {
     "name": "stdout",
     "output_type": "stream",
     "text": [
      "year :\n"
     ]
    },
    {
     "ename": "ValueError",
     "evalue": "invalid literal for int() with base 10: ''",
     "output_type": "error",
     "traceback": [
      "\u001b[1;31m---------------------------------------------------------------------------\u001b[0m",
      "\u001b[1;31mValueError\u001b[0m                                Traceback (most recent call last)",
      "\u001b[1;32m<ipython-input-23-cecf4b36af32>\u001b[0m in \u001b[0;36m<module>\u001b[1;34m\u001b[0m\n\u001b[0;32m      1\u001b[0m \u001b[1;32mimport\u001b[0m \u001b[0mcalendar\u001b[0m\u001b[1;33m\u001b[0m\u001b[1;33m\u001b[0m\u001b[0m\n\u001b[1;32m----> 2\u001b[1;33m \u001b[0myear\u001b[0m \u001b[1;33m=\u001b[0m \u001b[0mint\u001b[0m\u001b[1;33m(\u001b[0m\u001b[0minput\u001b[0m\u001b[1;33m(\u001b[0m\u001b[1;34m\"year :\"\u001b[0m\u001b[1;33m)\u001b[0m\u001b[1;33m)\u001b[0m\u001b[1;33m\u001b[0m\u001b[1;33m\u001b[0m\u001b[0m\n\u001b[0m\u001b[0;32m      3\u001b[0m \u001b[0mmonth\u001b[0m \u001b[1;33m=\u001b[0m \u001b[0mint\u001b[0m\u001b[1;33m(\u001b[0m\u001b[0minput\u001b[0m\u001b[1;33m(\u001b[0m\u001b[1;34m\"month :\"\u001b[0m\u001b[1;33m)\u001b[0m\u001b[1;33m)\u001b[0m\u001b[1;33m\u001b[0m\u001b[1;33m\u001b[0m\u001b[0m\n\u001b[0;32m      4\u001b[0m \u001b[0mdate\u001b[0m \u001b[1;33m=\u001b[0m \u001b[0mint\u001b[0m\u001b[1;33m(\u001b[0m\u001b[0minput\u001b[0m\u001b[1;33m(\u001b[0m\u001b[1;34m\"date :\"\u001b[0m\u001b[1;33m)\u001b[0m\u001b[1;33m)\u001b[0m\u001b[1;33m\u001b[0m\u001b[1;33m\u001b[0m\u001b[0m\n\u001b[0;32m      5\u001b[0m \u001b[0mprint\u001b[0m\u001b[1;33m(\u001b[0m\u001b[0mcalendar\u001b[0m\u001b[1;33m.\u001b[0m\u001b[0mmonth\u001b[0m\u001b[1;33m(\u001b[0m\u001b[0myear\u001b[0m\u001b[1;33m,\u001b[0m \u001b[0mmonth\u001b[0m\u001b[1;33m,\u001b[0m \u001b[0mdate\u001b[0m\u001b[1;33m)\u001b[0m\u001b[1;33m)\u001b[0m\u001b[1;33m\u001b[0m\u001b[1;33m\u001b[0m\u001b[0m\n",
      "\u001b[1;31mValueError\u001b[0m: invalid literal for int() with base 10: ''"
     ]
    }
   ],
   "source": [
    "import calendar\n",
    "year = int(input(\"year :\"))\n",
    "month = int(input(\"month :\"))\n",
    "date = int(input(\"date :\"))\n",
    "print(calendar.month(year, month, date))\n",
    "\n",
    "# print(calender.month(year, month))\n"
   ]
  },
  {
   "cell_type": "markdown",
   "id": "015d6e49",
   "metadata": {},
   "source": [
    "# display fibonacci"
   ]
  },
  {
   "cell_type": "code",
   "execution_count": null,
   "id": "5a0d3a66",
   "metadata": {},
   "outputs": [],
   "source": [
    "\n",
    "def Fibonacci(n):\n",
    "    if n < 0:\n",
    "        print(\"Incorrect input\")\n",
    "\n",
    "    elif n == 0:\n",
    "        return 0\n",
    "\n",
    "\telif n == 1 or n == 2:\n",
    "        return 1\n",
    "\n",
    "    else:\n",
    "        return Fibonacci(n-1) + Fibonacci(n-2)\n",
    "\n",
    "print(Fibonacci(9))\n",
    "\n"
   ]
  },
  {
   "cell_type": "markdown",
   "id": "4c293001",
   "metadata": {},
   "source": [
    "# ascii value of a charactor"
   ]
  },
  {
   "cell_type": "code",
   "execution_count": 24,
   "id": "e54aae62",
   "metadata": {},
   "outputs": [
    {
     "name": "stdout",
     "output_type": "stream",
     "text": [
      "\n"
     ]
    },
    {
     "ename": "TypeError",
     "evalue": "ord() expected a character, but string of length 0 found",
     "output_type": "error",
     "traceback": [
      "\u001b[1;31m---------------------------------------------------------------------------\u001b[0m",
      "\u001b[1;31mTypeError\u001b[0m                                 Traceback (most recent call last)",
      "\u001b[1;32m<ipython-input-24-4760fc4a27b0>\u001b[0m in \u001b[0;36m<module>\u001b[1;34m\u001b[0m\n\u001b[0;32m      1\u001b[0m \u001b[0ma\u001b[0m\u001b[1;33m=\u001b[0m \u001b[0minput\u001b[0m\u001b[1;33m(\u001b[0m\u001b[1;33m)\u001b[0m\u001b[1;33m\u001b[0m\u001b[1;33m\u001b[0m\u001b[0m\n\u001b[1;32m----> 2\u001b[1;33m \u001b[0mprint\u001b[0m\u001b[1;33m(\u001b[0m\u001b[0mord\u001b[0m\u001b[1;33m(\u001b[0m\u001b[0ma\u001b[0m\u001b[1;33m)\u001b[0m\u001b[1;33m)\u001b[0m\u001b[1;33m\u001b[0m\u001b[1;33m\u001b[0m\u001b[0m\n\u001b[0m",
      "\u001b[1;31mTypeError\u001b[0m: ord() expected a character, but string of length 0 found"
     ]
    }
   ],
   "source": [
    "a= input()\n",
    "print(ord(a))"
   ]
  },
  {
   "cell_type": "markdown",
   "id": "599ef055",
   "metadata": {},
   "source": [
    "# conversion from decimal to binary"
   ]
  },
  {
   "cell_type": "code",
   "execution_count": 25,
   "id": "3210fc27",
   "metadata": {},
   "outputs": [
    {
     "name": "stdout",
     "output_type": "stream",
     "text": [
      "enter the number\n"
     ]
    },
    {
     "ename": "ValueError",
     "evalue": "invalid literal for int() with base 10: ''",
     "output_type": "error",
     "traceback": [
      "\u001b[1;31m---------------------------------------------------------------------------\u001b[0m",
      "\u001b[1;31mValueError\u001b[0m                                Traceback (most recent call last)",
      "\u001b[1;32m<ipython-input-25-36bd56a03368>\u001b[0m in \u001b[0;36m<module>\u001b[1;34m\u001b[0m\n\u001b[1;32m----> 1\u001b[1;33m \u001b[0ma\u001b[0m\u001b[1;33m=\u001b[0m \u001b[0mint\u001b[0m\u001b[1;33m(\u001b[0m\u001b[0minput\u001b[0m\u001b[1;33m(\u001b[0m\u001b[1;34m\"enter the number\"\u001b[0m\u001b[1;33m)\u001b[0m\u001b[1;33m)\u001b[0m\u001b[1;33m\u001b[0m\u001b[1;33m\u001b[0m\u001b[0m\n\u001b[0m\u001b[0;32m      2\u001b[0m \u001b[0mprint\u001b[0m\u001b[1;33m(\u001b[0m\u001b[0mbin\u001b[0m\u001b[1;33m(\u001b[0m\u001b[0ma\u001b[0m\u001b[1;33m)\u001b[0m\u001b[1;33m)\u001b[0m\u001b[1;33m\u001b[0m\u001b[1;33m\u001b[0m\u001b[0m\n",
      "\u001b[1;31mValueError\u001b[0m: invalid literal for int() with base 10: ''"
     ]
    }
   ],
   "source": [
    "a= int(input(\"enter the number\"))\n",
    "print(bin(a))"
   ]
  },
  {
   "cell_type": "markdown",
   "id": "4f416515",
   "metadata": {},
   "source": [
    "# matrix"
   ]
  },
  {
   "cell_type": "code",
   "execution_count": 26,
   "id": "1034bf0b",
   "metadata": {},
   "outputs": [],
   "source": [
    "import numpy as np"
   ]
  },
  {
   "cell_type": "code",
   "execution_count": 27,
   "id": "f43580ad",
   "metadata": {},
   "outputs": [
    {
     "name": "stdout",
     "output_type": "stream",
     "text": [
      "enter the number of array you want :\n"
     ]
    },
    {
     "ename": "ValueError",
     "evalue": "invalid literal for int() with base 10: ''",
     "output_type": "error",
     "traceback": [
      "\u001b[1;31m---------------------------------------------------------------------------\u001b[0m",
      "\u001b[1;31mValueError\u001b[0m                                Traceback (most recent call last)",
      "\u001b[1;32m<ipython-input-27-942adee8c0cc>\u001b[0m in \u001b[0;36m<module>\u001b[1;34m\u001b[0m\n\u001b[1;32m----> 1\u001b[1;33m \u001b[0mn\u001b[0m \u001b[1;33m=\u001b[0m \u001b[0mint\u001b[0m\u001b[1;33m(\u001b[0m\u001b[0minput\u001b[0m\u001b[1;33m(\u001b[0m\u001b[1;34m\"enter the number of array you want :\"\u001b[0m\u001b[1;33m)\u001b[0m\u001b[1;33m)\u001b[0m\u001b[1;33m\u001b[0m\u001b[1;33m\u001b[0m\u001b[0m\n\u001b[0m\u001b[0;32m      2\u001b[0m \u001b[0ma\u001b[0m\u001b[1;33m=\u001b[0m \u001b[0mnp\u001b[0m\u001b[1;33m.\u001b[0m\u001b[0marray\u001b[0m\u001b[1;33m(\u001b[0m\u001b[1;33m[\u001b[0m\u001b[0minput\u001b[0m\u001b[1;33m(\u001b[0m\u001b[1;33m)\u001b[0m\u001b[1;33m.\u001b[0m\u001b[0msplit\u001b[0m\u001b[1;33m(\u001b[0m\u001b[1;33m)\u001b[0m \u001b[1;32mfor\u001b[0m \u001b[0mi\u001b[0m \u001b[1;32min\u001b[0m \u001b[0mrange\u001b[0m\u001b[1;33m(\u001b[0m\u001b[1;36m1\u001b[0m\u001b[1;33m,\u001b[0m\u001b[1;36m3\u001b[0m\u001b[1;33m)\u001b[0m\u001b[1;33m]\u001b[0m\u001b[1;33m,\u001b[0m \u001b[0mdtype\u001b[0m \u001b[1;33m=\u001b[0m \u001b[0mint\u001b[0m\u001b[1;33m)\u001b[0m\u001b[1;33m\u001b[0m\u001b[1;33m\u001b[0m\u001b[0m\n\u001b[0;32m      3\u001b[0m \u001b[0mprint\u001b[0m\u001b[1;33m(\u001b[0m\u001b[0ma\u001b[0m\u001b[1;33m)\u001b[0m\u001b[1;33m\u001b[0m\u001b[1;33m\u001b[0m\u001b[0m\n",
      "\u001b[1;31mValueError\u001b[0m: invalid literal for int() with base 10: ''"
     ]
    }
   ],
   "source": [
    "n = int(input(\"enter the number of array you want :\"))\n",
    "a= np.array([input().split() for i in range(1,3)], dtype = int)\n",
    "print(a)"
   ]
  },
  {
   "cell_type": "markdown",
   "id": "56aa7679",
   "metadata": {},
   "source": [
    "# ADDITIon of matrix"
   ]
  },
  {
   "cell_type": "code",
   "execution_count": null,
   "id": "92f1f78c",
   "metadata": {},
   "outputs": [],
   "source": [
    "c = np.array([input().split() for i in range(1,4)], dtype = int)\n",
    "d = np.array([input().split() for i in range(1,4)], dtype = int)\n",
    "add = np.add(c,d)"
   ]
  },
  {
   "cell_type": "markdown",
   "id": "f744e202",
   "metadata": {},
   "source": [
    "## transpose"
   ]
  },
  {
   "cell_type": "code",
   "execution_count": null,
   "id": "b5924729",
   "metadata": {},
   "outputs": [],
   "source": [
    "import numpy as np\n",
    "c = np.array([input().split() for i in range(1,4)], dtype = int)\n",
    "d = np.transpose(c)\n",
    "print(d)"
   ]
  },
  {
   "cell_type": "markdown",
   "id": "1dab2717",
   "metadata": {},
   "source": [
    "# multiplication"
   ]
  },
  {
   "cell_type": "code",
   "execution_count": null,
   "id": "7247106c",
   "metadata": {},
   "outputs": [],
   "source": [
    "c = np.array([input().split() for i in range(1,4)], dtype = int)\n",
    "d = np.array([input().split() for i in range(1,4)], dtype = int)\n",
    "add = np.dot(c,d)"
   ]
  },
  {
   "cell_type": "markdown",
   "id": "eb997ce3",
   "metadata": {},
   "source": [
    "# is palindrome"
   ]
  },
  {
   "cell_type": "code",
   "execution_count": null,
   "id": "e5d080bc",
   "metadata": {},
   "outputs": [],
   "source": [
    "\n",
    "def isPalindrome(s):\n",
    "    return s == s[::-1]\n",
    " \n",
    " \n",
    "s = input()\n",
    "ans = isPalindrome(s)\n",
    " \n",
    "if ans:\n",
    "    print(\"Yes\")\n",
    "else:\n",
    "    print(\"No\")"
   ]
  },
  {
   "cell_type": "markdown",
   "id": "60c9198f",
   "metadata": {},
   "source": [
    "# count vowel"
   ]
  },
  {
   "cell_type": "code",
   "execution_count": null,
   "id": "d7dc7eda",
   "metadata": {},
   "outputs": [],
   "source": [
    "string=input(\"Enter string:\")\n",
    "vowels=0\n",
    "for i in string:\n",
    "      if(i=='a' or i=='e' or i=='i' or i=='o' or i=='u' or i=='A' or i=='E' or i=='I' or i=='O' or i=='U'):\n",
    "            vowels=vowels+1\n",
    "print(\"Number of vowels are:\")\n",
    "print(vowels)"
   ]
  },
  {
   "cell_type": "markdown",
   "id": "e722ba13",
   "metadata": {},
   "source": [
    "# pyramid pattern\n"
   ]
  },
  {
   "cell_type": "code",
   "execution_count": null,
   "id": "1d414c43",
   "metadata": {},
   "outputs": [],
   "source": [
    "def triangle(n):\n",
    "    # number of spaces\n",
    "    m = n - 1\n",
    "    for i in range(0, n):\n",
    "        for j in range(0, m):\n",
    "            print(end=\" \")\n",
    "\n",
    "        m = m - 1\n",
    "        for j in range(0, i+1):\n",
    "            print(\"* \", end=\"\")\n",
    "     \n",
    "        # ending line after each row\n",
    "        print(\"\\r\")\n",
    " \n",
    "# Driver Code\n",
    "n = 5\n",
    "triangle(n)"
   ]
  },
  {
   "cell_type": "markdown",
   "id": "6400fda0",
   "metadata": {},
   "source": [
    "# remove punctutations"
   ]
  },
  {
   "cell_type": "code",
   "execution_count": null,
   "id": "808f22a4",
   "metadata": {},
   "outputs": [],
   "source": [
    "a_str = input()\n",
    "print(\"Thestring is : \" + a_str)\n",
    "punc = '''!()-[]{};:'\"\\,<>./?@#$%^&*_~'''\n",
    "\n",
    "for ele in a_str:\n",
    "    if ele in punc:\n",
    "        a_str = a_str.replace(ele, \"\")\n",
    "\n",
    "print(\"The string after punctuation filter : \" + a_str)\n"
   ]
  },
  {
   "cell_type": "markdown",
   "id": "48ecb70b",
   "metadata": {},
   "source": [
    "# slice list"
   ]
  },
  {
   "cell_type": "code",
   "execution_count": null,
   "id": "de958cd4",
   "metadata": {},
   "outputs": [],
   "source": [
    "Lst = [50, 70, 30, 20, 90, 10, 50]\n",
    " \n",
    "# Display list\n",
    "print(Lst[1:3:])"
   ]
  },
  {
   "cell_type": "markdown",
   "id": "65251819",
   "metadata": {},
   "source": [
    "# merge two dictionary"
   ]
  },
  {
   "cell_type": "code",
   "execution_count": null,
   "id": "579f92c1",
   "metadata": {},
   "outputs": [],
   "source": [
    "def Merge(dict1, dict2):\n",
    "    return(dict2.update(dict1))\n",
    "    \n",
    "dict1 = {'q': 4, 'w': 85}\n",
    "dict2 = {'r': 23, 'e': 12}\n",
    " \n",
    "print(Merge(dict1, dict2))\n",
    " \n",
    "\n",
    "print(dict2)"
   ]
  },
  {
   "cell_type": "markdown",
   "id": "ab309e2b",
   "metadata": {},
   "source": [
    "# accesing list"
   ]
  },
  {
   "cell_type": "code",
   "execution_count": 28,
   "id": "ace2027d",
   "metadata": {},
   "outputs": [
    {
     "name": "stdout",
     "output_type": "stream",
     "text": [
      "1\n",
      "2\n",
      "3\n",
      "4\n",
      "5\n",
      "6\n",
      "7\n",
      "8\n",
      "9\n"
     ]
    }
   ],
   "source": [
    "l=[1,2,3,4,5,6,7,8,9]\n",
    "for i in range(len(l)):\n",
    "    print(l[i])"
   ]
  },
  {
   "cell_type": "markdown",
   "id": "cf2cf813",
   "metadata": {},
   "source": [
    "# set operation"
   ]
  },
  {
   "cell_type": "code",
   "execution_count": 29,
   "id": "9f4fe70d",
   "metadata": {},
   "outputs": [
    {
     "name": "stdout",
     "output_type": "stream",
     "text": [
      "{'VV', 'CC', 'AA', 'BB'}\n",
      "union is {'VV', 'AA', 'MM', 'NN', 'CC', 'BB'}\n",
      "intersection is : set()\n",
      "difference is : {'VV', 'CC', 'AA', 'BB'}\n"
     ]
    }
   ],
   "source": [
    "A = {\"AA\", \"BB\", \"CC\"}\n",
    "A.add(\"VV\")\n",
    "print(A)\n",
    "B = {\"MM\", \"NN\"}\n",
    "z = A.union(B)\n",
    "print(\"union is\",z)\n",
    "S = A.intersection(B)\n",
    "print(\"intersection is :\",S)\n",
    "W = A.difference(B)\n",
    "print(\"difference is :\",W)"
   ]
  },
  {
   "cell_type": "markdown",
   "id": "41bbea41",
   "metadata": {},
   "source": [
    "# power of 2 using anynonmus function"
   ]
  },
  {
   "cell_type": "code",
   "execution_count": 30,
   "id": "fec89f90",
   "metadata": {},
   "outputs": [
    {
     "name": "stdout",
     "output_type": "stream",
     "text": [
      "\n"
     ]
    },
    {
     "ename": "ValueError",
     "evalue": "invalid literal for int() with base 10: ''",
     "output_type": "error",
     "traceback": [
      "\u001b[1;31m---------------------------------------------------------------------------\u001b[0m",
      "\u001b[1;31mValueError\u001b[0m                                Traceback (most recent call last)",
      "\u001b[1;32m<ipython-input-30-03e8007bc741>\u001b[0m in \u001b[0;36m<module>\u001b[1;34m\u001b[0m\n\u001b[1;32m----> 1\u001b[1;33m \u001b[0mt\u001b[0m \u001b[1;33m=\u001b[0m \u001b[0mint\u001b[0m\u001b[1;33m(\u001b[0m\u001b[0minput\u001b[0m\u001b[1;33m(\u001b[0m\u001b[1;33m)\u001b[0m\u001b[1;33m)\u001b[0m\u001b[1;33m\u001b[0m\u001b[1;33m\u001b[0m\u001b[0m\n\u001b[0m\u001b[0;32m      2\u001b[0m \u001b[0mr\u001b[0m\u001b[1;33m=\u001b[0m\u001b[0mlist\u001b[0m\u001b[1;33m(\u001b[0m\u001b[0mmap\u001b[0m\u001b[1;33m(\u001b[0m\u001b[1;32mlambda\u001b[0m \u001b[0mx\u001b[0m\u001b[1;33m:\u001b[0m \u001b[1;36m2\u001b[0m \u001b[1;33m**\u001b[0m \u001b[0mx\u001b[0m\u001b[1;33m,\u001b[0m \u001b[0mrange\u001b[0m\u001b[1;33m(\u001b[0m\u001b[0mt\u001b[0m\u001b[1;33m)\u001b[0m\u001b[1;33m)\u001b[0m\u001b[1;33m)\u001b[0m\u001b[1;33m\u001b[0m\u001b[1;33m\u001b[0m\u001b[0m\n\u001b[0;32m      3\u001b[0m \u001b[0mprint\u001b[0m\u001b[1;33m(\u001b[0m\u001b[0mr\u001b[0m\u001b[1;33m)\u001b[0m\u001b[1;33m\u001b[0m\u001b[1;33m\u001b[0m\u001b[0m\n",
      "\u001b[1;31mValueError\u001b[0m: invalid literal for int() with base 10: ''"
     ]
    }
   ],
   "source": [
    "t = int(input())\n",
    "r=list(map(lambda x: 2 ** x, range(t)))\n",
    "print(r)\n"
   ]
  },
  {
   "cell_type": "markdown",
   "id": "0155fb6f",
   "metadata": {},
   "source": [
    "# sort dict by value"
   ]
  },
  {
   "cell_type": "code",
   "execution_count": 32,
   "id": "3067ede4",
   "metadata": {},
   "outputs": [
    {
     "name": "stdout",
     "output_type": "stream",
     "text": [
      "[3, 4, 6]\n"
     ]
    }
   ],
   "source": [
    "d = {5:4 , 1:6 , 6:3}\n",
    "sorted_d_value = sorted(d.values())\n",
    "print(sorted_d_value)"
   ]
  },
  {
   "cell_type": "code",
   "execution_count": 34,
   "id": "507d117e",
   "metadata": {},
   "outputs": [
    {
     "name": "stdout",
     "output_type": "stream",
     "text": [
      "this list is empty\n"
     ]
    }
   ],
   "source": [
    "#check list is empty\n",
    "l = []\n",
    "if len(l) == 0:\n",
    "    print('this list is empty')\n",
    "else:\n",
    "    print('the list contain something')"
   ]
  },
  {
   "cell_type": "code",
   "execution_count": 35,
   "id": "fe31f9ff",
   "metadata": {},
   "outputs": [
    {
     "ename": "FileNotFoundError",
     "evalue": "[Errno 2] No such file or directory: 'first.txt'",
     "output_type": "error",
     "traceback": [
      "\u001b[1;31m---------------------------------------------------------------------------\u001b[0m",
      "\u001b[1;31mFileNotFoundError\u001b[0m                         Traceback (most recent call last)",
      "\u001b[1;32m<ipython-input-35-710aa937ed72>\u001b[0m in \u001b[0;36m<module>\u001b[1;34m\u001b[0m\n\u001b[0;32m      1\u001b[0m \u001b[1;31m#copy file\u001b[0m\u001b[1;33m\u001b[0m\u001b[1;33m\u001b[0m\u001b[1;33m\u001b[0m\u001b[0m\n\u001b[1;32m----> 2\u001b[1;33m \u001b[1;32mwith\u001b[0m \u001b[0mopen\u001b[0m\u001b[1;33m(\u001b[0m\u001b[1;34m'first.txt'\u001b[0m\u001b[1;33m)\u001b[0m \u001b[1;32mas\u001b[0m \u001b[0mf\u001b[0m\u001b[1;33m:\u001b[0m\u001b[1;33m\u001b[0m\u001b[1;33m\u001b[0m\u001b[0m\n\u001b[0m\u001b[0;32m      3\u001b[0m     \u001b[1;32mwith\u001b[0m \u001b[0mopen\u001b[0m\u001b[1;33m(\u001b[0m\u001b[1;34m'second.txt'\u001b[0m\u001b[1;33m,\u001b[0m \u001b[1;34m'w'\u001b[0m\u001b[1;33m)\u001b[0m \u001b[1;32mas\u001b[0m \u001b[0mf1\u001b[0m\u001b[1;33m:\u001b[0m\u001b[1;33m\u001b[0m\u001b[1;33m\u001b[0m\u001b[0m\n\u001b[0;32m      4\u001b[0m         \u001b[1;32mfor\u001b[0m \u001b[0mline\u001b[0m \u001b[1;32min\u001b[0m \u001b[0mf\u001b[0m\u001b[1;33m:\u001b[0m\u001b[1;33m\u001b[0m\u001b[1;33m\u001b[0m\u001b[0m\n\u001b[0;32m      5\u001b[0m             \u001b[0mf1\u001b[0m\u001b[1;33m.\u001b[0m\u001b[0mwrite\u001b[0m\u001b[1;33m(\u001b[0m\u001b[0mline\u001b[0m\u001b[1;33m)\u001b[0m\u001b[1;33m\u001b[0m\u001b[1;33m\u001b[0m\u001b[0m\n",
      "\u001b[1;31mFileNotFoundError\u001b[0m: [Errno 2] No such file or directory: 'first.txt'"
     ]
    }
   ],
   "source": [
    "#copy file\n",
    "with open('first.txt') as f:\n",
    "    with open('second.txt', 'w') as f1:\n",
    "        for line in f:\n",
    "            f1.write(line)"
   ]
  },
  {
   "cell_type": "code",
   "execution_count": 37,
   "id": "eda79a94",
   "metadata": {},
   "outputs": [
    {
     "name": "stdout",
     "output_type": "stream",
     "text": [
      "concatenated list is[1, 2, 3, 4, 5, 7, 8, 9, 5, 11]\n"
     ]
    }
   ],
   "source": [
    "#add two list\n",
    "list1 = [1, 2, 3, 4, 5]\n",
    "list2 = [7, 8, 9, 5, 11]\n",
    "list1 = list1 + list2\n",
    "print('concatenated list is' + str(list1))"
   ]
  },
  {
   "cell_type": "code",
   "execution_count": 38,
   "id": "68087005",
   "metadata": {},
   "outputs": [
    {
     "name": "stdout",
     "output_type": "stream",
     "text": [
      "enter the to check :3\n",
      "key is not present\n"
     ]
    }
   ],
   "source": [
    "#check key is present or not\n",
    "dict = {'A':1, 'B':2, 'C':3, 'D':4, 'E':5}\n",
    "key = input('enter the to check :')\n",
    "if key in dict.keys():\n",
    "    print('key is present')\n",
    "else:\n",
    "    print('key is not present')"
   ]
  },
  {
   "cell_type": "code",
   "execution_count": 40,
   "id": "3dec341f",
   "metadata": {},
   "outputs": [
    {
     "name": "stdout",
     "output_type": "stream",
     "text": [
      "456.1234\n",
      "456\n"
     ]
    }
   ],
   "source": [
    "#parse float to int\n",
    "n = '456.1234'\n",
    "print(float(n))\n",
    "print(int(float(n)))"
   ]
  },
  {
   "cell_type": "code",
   "execution_count": 41,
   "id": "890018aa",
   "metadata": {},
   "outputs": [
    {
     "name": "stdout",
     "output_type": "stream",
     "text": [
      "\u001b[31msome red text\n",
      "\u001b[46mwith this background\n",
      "\u001b[2mand in dim text\n"
     ]
    }
   ],
   "source": [
    "#change text color in terminal\n",
    "from colorama import Fore, Back, Style\n",
    "print(Fore.RED + 'some red text')\n",
    "print(Back.CYAN + 'with this background')\n",
    "print(Style.DIM + 'and in dim text')"
   ]
  },
  {
   "cell_type": "code",
   "execution_count": 42,
   "id": "b800e89a",
   "metadata": {},
   "outputs": [
    {
     "name": "stdout",
     "output_type": "stream",
     "text": [
      "<class 'datetime.datetime'>\n",
      "2021-09-24 11:31:00\n"
     ]
    }
   ],
   "source": [
    "#convert string to date time\n",
    "from datetime import datetime\n",
    "date_time_str = 'sep 24 2021 11:31AM'\n",
    "datetime_object = datetime.strptime(date_time_str, '%b %d %Y %I:%M%p')\n",
    "print(type(datetime_object))\n",
    "print(datetime_object)"
   ]
  },
  {
   "cell_type": "code",
   "execution_count": 43,
   "id": "2302a640",
   "metadata": {},
   "outputs": [
    {
     "name": "stdout",
     "output_type": "stream",
     "text": [
      "the original list is:[12, 20, 3, 11, 22, 5]\n",
      "the last element of list is:5\n"
     ]
    }
   ],
   "source": [
    "#last element of list\n",
    "list1 = [12, 20, 3, 11, 22, 5]\n",
    "print('the original list is:' + str(list1))\n",
    "print('the last element of list is:' + str(list1[-1]))"
   ]
  },
  {
   "cell_type": "code",
   "execution_count": 44,
   "id": "35f03ec9",
   "metadata": {},
   "outputs": [
    {
     "name": "stdout",
     "output_type": "stream",
     "text": [
      "is\n",
      "string\n",
      "this is string\n"
     ]
    }
   ],
   "source": [
    "#get a substring\n",
    "my_string = 'this is string '\n",
    "print(my_string[5:7])\n",
    "print(my_string[8:14])\n",
    "print(my_string[:-1])"
   ]
  },
  {
   "cell_type": "code",
   "execution_count": 46,
   "id": "1352cc96",
   "metadata": {},
   "outputs": [
    {
     "name": "stdout",
     "output_type": "stream",
     "text": [
      "python is\n",
      "easy to learn\n",
      "python is easy to learn\n"
     ]
    }
   ],
   "source": [
    "#print without a newline\n",
    "print('python is')\n",
    "print('easy to learn')\n",
    "\n",
    "# print both statement in single line\n",
    "print('python is', end=\" \")\n",
    "#random select elementprint('easy to learn')"
   ]
  },
  {
   "cell_type": "code",
   "execution_count": 1,
   "id": "518319c8",
   "metadata": {},
   "outputs": [
    {
     "name": "stdout",
     "output_type": "stream",
     "text": [
      "The list is: \n",
      "[23, 2, 534, 45645, 6, 4325, 45, 568, 67, 76, 345, 23423, 46523645]\n",
      "The randomly selected element is: 45645\n"
     ]
    }
   ],
   "source": [
    "#randomly select element\n",
    "import random\n",
    "\n",
    "lst = [23,2,534,45645,6,4325,45,568,67,76,345,23423,46523645]\n",
    "print(\"The list is: \")\n",
    "print(lst)\n",
    "\n",
    "print(\"The randomly selected element is:\", random.choice(lst))"
   ]
  },
  {
   "cell_type": "code",
   "execution_count": 2,
   "id": "a0e5716d",
   "metadata": {},
   "outputs": [
    {
     "name": "stdout",
     "output_type": "stream",
     "text": [
      "The two lists are: \n",
      "['foo', 'max', 'highest', 'pure', 'long', 'heavy', 'crazy']\n",
      "['bar', 'min', 'lowest', 'impure', 'short', 'light', 'wise']\n",
      "\n",
      "The final dict is: \n",
      "{\n",
      "\t'foo': 'bar'\n",
      "\t'max': 'min'\n",
      "\t'highest': 'lowest'\n",
      "\t'pure': 'impure'\n",
      "\t'long': 'short'\n",
      "\t'heavy': 'light'\n",
      "\t'crazy': 'wise'\n",
      "}\n"
     ]
    }
   ],
   "source": [
    "#convert list into dict\n",
    "def pritty_print(dictionary, msg = \"\"):\n",
    "    print(\"\\n\"+msg+\"\\n{\")\n",
    "    for key, value in dictionary.items():\n",
    "        print(f\"\\t'{key}': '{value}'\")\n",
    "    print(\"}\")\n",
    "\n",
    "def main():\n",
    "    lst1 = [\"foo\", \"max\", \"highest\", \"pure\", \"long\", \"heavy\", \"crazy\"]\n",
    "    lst2 = [\"bar\", \"min\", \"lowest\", \"impure\", \"short\", \"light\", \"wise\"]\n",
    "    print('The two lists are: ')\n",
    "    print(lst1)\n",
    "    print(lst2)\n",
    "\n",
    "    final_dict = {}\n",
    "    for key, value in zip(lst1, lst2):\n",
    "        final_dict[key] = value\n",
    "\n",
    "    pritty_print(final_dict, \"The final dict is: \")\n",
    "\n",
    "\n",
    "if __name__ == '__main__':\n",
    "\tmain()"
   ]
  },
  {
   "cell_type": "code",
   "execution_count": 3,
   "id": "6d118c8d",
   "metadata": {},
   "outputs": [
    {
     "name": "stdout",
     "output_type": "stream",
     "text": [
      "Some important time taking task running...\n",
      "It took 5.016186714172363 to complete the task\n"
     ]
    }
   ],
   "source": [
    "import time\n",
    "import random\n",
    "\n",
    "start = time.time()\n",
    "\n",
    "print(\"Some important time taking task running...\")\n",
    "time.sleep(random.randint(2,5))\n",
    "\n",
    "print(\"It took\", time.time()-start, \"to complete the task\")"
   ]
  },
  {
   "cell_type": "code",
   "execution_count": null,
   "id": "6050b400",
   "metadata": {},
   "outputs": [],
   "source": [
    "\n",
    "def make_dict():\n",
    "    new_dict = {}\n",
    "    n = int(input(\"Enter the number of key: values pairs: \"))\n",
    "    print(\"Start giving input pair to make a dict\")\n",
    "    for _ in range(n):\n",
    "        key = input(\"\\033[0;32mEnter a new key: \\033[0m\")\n",
    "        value = input(f\"\\033[1;34mEnter the value of {key}: \\033[0m\")\n",
    "            new_dict[key] = value\n",
    "\n",
    "    return new_dict\n",
    "\n",
    "def pritty_print(dictionary, msg = \"\"):\n",
    "    print(\"\\n\"+msg+\"\\n{\")\n",
    "    for key, value in dictionary.items():\n",
    "        print(f\"\\t'{key}': '{value}'\")\n",
    "    print(\"}\")\n",
    "\n",
    "def main():\n",
    "    d = make_dict()\n",
    "\n",
    "    pritty_print(d, \"The new generated dict is:\")\n",
    "    key = input(\"\\033[0;31m\\nEnter the key to be deleted: \")\n",
    "\td.pop(key)\n",
    "\n",
    "    pritty_print(d, \"The new deleted dict is:\\033[0m\")\n",
    "\n",
    "\n",
    "if __name__ == '__main__':\n",
    "    main()"
   ]
  },
  {
   "cell_type": "code",
   "execution_count": null,
   "id": "483665c2",
   "metadata": {},
   "outputs": [],
   "source": [
    "#remove whitespaces\n",
    "def main():\n",
    "    userIn = input(\"Enter any string with extra leading and trailing whitespaces: \")\n",
    "    print(userIn.strip())\n",
    "\n",
    "\n",
    "if __name__ == '__main__':\n",
    "    main()"
   ]
  },
  {
   "cell_type": "code",
   "execution_count": 1,
   "id": "b85d7012",
   "metadata": {},
   "outputs": [
    {
     "name": "stdout",
     "output_type": "stream",
     "text": [
      "Enter a number: 545\n",
      "545 is not an Armstrong number\n"
     ]
    }
   ],
   "source": [
    "#amstrong number\n",
    "num = int(input(\"Enter a number: \"))\n",
    "sum = 0\n",
    "temp = num\n",
    "while temp > 0:\n",
    "   digit = temp % 10\n",
    "   sum += digit ** 3\n",
    "   temp //= 10\n",
    "if num == sum:\n",
    "   print(num,\"is an Armstrong number\")\n",
    "else:\n",
    "   print(num,\"is not an Armstrong number\")"
   ]
  },
  {
   "cell_type": "code",
   "execution_count": null,
   "id": "aaec784d",
   "metadata": {},
   "outputs": [],
   "source": []
  }
 ],
 "metadata": {
  "kernelspec": {
   "display_name": "Python 3",
   "language": "python",
   "name": "python3"
  },
  "language_info": {
   "codemirror_mode": {
    "name": "ipython",
    "version": 3
   },
   "file_extension": ".py",
   "mimetype": "text/x-python",
   "name": "python",
   "nbconvert_exporter": "python",
   "pygments_lexer": "ipython3",
   "version": "3.8.8"
  }
 },
 "nbformat": 4,
 "nbformat_minor": 5
}
